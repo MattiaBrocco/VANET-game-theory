{
 "cells": [
  {
   "cell_type": "code",
   "execution_count": 1,
   "id": "54194d20",
   "metadata": {
    "ExecuteTime": {
     "end_time": "2023-01-15T18:59:22.026445Z",
     "start_time": "2023-01-15T18:59:19.412064Z"
    }
   },
   "outputs": [],
   "source": [
    "import os\n",
    "import sys\n",
    "import nashpy\n",
    "import numpy as np\n",
    "import pandas as pd\n",
    "import seaborn as sns\n",
    "import scipy.stats as stats\n",
    "import matplotlib.pyplot as plt\n",
    "\n",
    "import multiprocessing\n",
    "from joblib import delayed\n",
    "from joblib import Parallel"
   ]
  },
  {
   "cell_type": "code",
   "execution_count": 2,
   "id": "f9ae69e5",
   "metadata": {
    "ExecuteTime": {
     "end_time": "2023-01-15T18:59:22.042407Z",
     "start_time": "2023-01-15T18:59:22.031411Z"
    }
   },
   "outputs": [],
   "source": [
    "# ASSUMPTIONS\n",
    "C = 1000\n",
    "w = 0.2\n",
    "gm = 0.02\n",
    "v0 = 130"
   ]
  },
  {
   "cell_type": "code",
   "execution_count": 4,
   "id": "3db3344b",
   "metadata": {
    "ExecuteTime": {
     "end_time": "2023-01-15T18:59:23.465323Z",
     "start_time": "2023-01-15T18:59:23.452048Z"
    }
   },
   "outputs": [],
   "source": [
    "def payoff_attack(rate, tau, C, o, g, v0, v1, lbd = 50):\n",
    "    \n",
    "    if stats.poisson.cdf(k = tau, mu = lbd) > 0.5:\n",
    "        rt = rate\n",
    "    else:\n",
    "        rt = 0\n",
    "    \n",
    "    part1 = ((tau*rt)/(C**2)) - o - g\n",
    "    delta_v = ((v0 - v1) / v0)#*1000\n",
    "    \n",
    "    # Scaling\n",
    "    minimum = max(part1, delta_v)\n",
    "    maximum = min(part1, delta_v)\n",
    "    \n",
    "    part1 = (part1 - minimum)/(maximum - minimum)\n",
    "    delta_v = (delta_v - minimum)/(maximum - minimum)\n",
    "    \n",
    "    return part1 + delta_v\n",
    "\n",
    "payoff_attack = np.vectorize(payoff_attack)#, excluded = {\"rate\", \"C\", \"o\", \"g\", \"v0\", \"v1\", \"lbd\"})"
   ]
  },
  {
   "cell_type": "code",
   "execution_count": 34,
   "id": "464562ad",
   "metadata": {
    "ExecuteTime": {
     "end_time": "2023-01-15T19:07:36.262620Z",
     "start_time": "2023-01-15T19:07:36.250560Z"
    }
   },
   "outputs": [],
   "source": [
    "def payoff_defense(rate, tau, C, v0, v1, lbd = 50):\n",
    "    \n",
    "    if stats.poisson.cdf(k = tau, mu = lbd) > 0.5:\n",
    "        rt = rate\n",
    "    else:\n",
    "        rt = 0\n",
    "    \n",
    "    delta_v = ((v0 - v1) / v0)#*1000\n",
    "    part1 = 1 - ((tau*rt)/(C**2))\n",
    "    \n",
    "    # Scaling\n",
    "    #minimum = max(part1, delta_v)\n",
    "    #maximum = min(part1, delta_v)\n",
    "    \n",
    "    #part1 = (part1 - minimum)/(maximum - minimum)\n",
    "    #delta_v = (delta_v - minimum)/(maximum - minimum)    \n",
    "    \n",
    "    return part1 - delta_v\n",
    "\n",
    "payoff_defense = np.vectorize(payoff_defense)"
   ]
  },
  {
   "cell_type": "code",
   "execution_count": 35,
   "id": "dc658935",
   "metadata": {
    "ExecuteTime": {
     "end_time": "2023-01-15T19:07:36.292821Z",
     "start_time": "2023-01-15T19:07:36.264621Z"
    }
   },
   "outputs": [],
   "source": [
    "def Simulation(C, omega, gamma, v0, rate_list = None,\n",
    "               tau_list = None, v1_list = None, lbd = 50):\n",
    "    \"\"\"\n",
    "    Parameters\n",
    "    ----------\n",
    "    \n",
    "    rate_list : iterable\n",
    "    tau_list : iterable\n",
    "    v1_list : iterable\n",
    "    \"\"\"\n",
    "    output_payoff = []\n",
    "    output_strategy = []\n",
    "    \n",
    "    if tau_list is None:\n",
    "        tau_list = np.arange(200, 1001, 100)\n",
    "    if rate_list is None:\n",
    "        rate_list = np.arange(200, 1001, 100)\n",
    "    if v1_list is None:\n",
    "        v1_list = np.arange(v0 - 30, v0 + 30, 10)\n",
    "    \n",
    "    for v1 in v1_list:\n",
    "\n",
    "        ATK = np.array([payoff_attack(rate = r, tau = tau_list, C = C, o = omega,\n",
    "                                      g = gamma, v0 = v0, v1 = v1, lbd = lbd)\n",
    "                        for r in rate_list])\n",
    "        DEF = np.array([payoff_defense(rate = r, tau = tau_list, C = C,\n",
    "                                       v0 = v0, v1 = v1, lbd = lbd)\n",
    "                        for r in rate_list])\n",
    "\n",
    "        game = nashpy.Game(ATK, DEF)\n",
    "        \n",
    "        equilibria = []\n",
    "        for eq in game.support_enumeration():\n",
    "            \n",
    "            iter_ = eq\n",
    "            \n",
    "            br_player1 = iter_[0].argmax()\n",
    "            br_player2 = iter_[1].argmax()\n",
    "            \n",
    "            # Payoffs\n",
    "            output_payoff += [[v1,\n",
    "                               ATK[br_player1, br_player2],\n",
    "                               DEF[br_player1, br_player2]]]            \n",
    "            # Strategies\n",
    "            output_strategy += [[v1, rate_list[br_player1], tau_list[br_player2]]]\n",
    "            \n",
    "    return output_payoff, output_strategy"
   ]
  },
  {
   "cell_type": "code",
   "execution_count": 61,
   "id": "8e787813",
   "metadata": {
    "ExecuteTime": {
     "end_time": "2023-01-15T19:09:49.911107Z",
     "start_time": "2023-01-15T19:09:49.893949Z"
    }
   },
   "outputs": [
    {
     "data": {
      "text/plain": [
       "0.5187943096786846"
      ]
     },
     "execution_count": 61,
     "metadata": {},
     "output_type": "execute_result"
    }
   ],
   "source": [
    "stats.poisson.cdf(k = 200, mu = 200)"
   ]
  },
  {
   "cell_type": "code",
   "execution_count": 39,
   "id": "fcf39f16",
   "metadata": {
    "ExecuteTime": {
     "end_time": "2023-01-15T19:08:19.601104Z",
     "start_time": "2023-01-15T19:08:09.384855Z"
    }
   },
   "outputs": [
    {
     "name": "stdout",
     "output_type": "stream",
     "text": [
      "[[[10, 1.0, -0.023076923076923106], [10, 1.0, -0.07307692307692315], [10, 1.0, -0.12307692307692308], [10, 1.0, -0.17307692307692313], [10, 1.0, -0.22307692307692317], [10, 1.0, -0.2730769230769231], [10, 1.0, -0.32307692307692315], [10, 1.0, -0.3730769230769231], [10, 1.0, -0.42307692307692313]], [[20, 1.0, 0.05384615384615388], [20, 1.0, 0.0038461538461538325], [20, 1.0, -0.0461538461538461], [20, 1.0, -0.09615384615384615], [20, 1.0, -0.1461538461538462], [20, 1.0, -0.19615384615384612], [20, 1.0, -0.24615384615384617], [20, 1.0, -0.2961538461538461], [20, 1.0, -0.34615384615384615]], [[30, 1.0, 0.13076923076923075], [30, 1.0, 0.0807692307692307], [30, 1.0, 0.03076923076923077], [30, 1.0, -0.019230769230769273], [30, 1.0, -0.06923076923076932], [30, 1.0, -0.11923076923076925], [30, 1.0, -0.1692307692307693], [30, 1.0, -0.21923076923076923], [30, 1.0, -0.2692307692307693]], [[40, 1.0, 0.20769230769230773], [40, 1.0, 0.1576923076923077], [40, 1.0, 0.10769230769230775], [40, 1.0, 0.05769230769230771], [40, 1.0, 0.007692307692307665], [40, 1.0, -0.04230769230769227], [40, 1.0, -0.09230769230769231], [40, 1.0, -0.14230769230769225], [40, 1.0, -0.1923076923076923]], [[50, 1.0, 0.2846153846153846], [50, 1.0, 0.23461538461538456], [50, 1.0, 0.18461538461538463], [50, 1.0, 0.13461538461538458], [50, 1.0, 0.08461538461538454], [50, 1.0, 0.0346153846153846], [50, 1.0, -0.015384615384615441], [50, 1.0, -0.06538461538461537], [50, 1.0, -0.11538461538461542]]]\n",
      "[[[10, 200, 500], [10, 300, 500], [10, 400, 500], [10, 500, 500], [10, 600, 500], [10, 700, 500], [10, 800, 500], [10, 900, 500], [10, 1000, 500]], [[20, 200, 500], [20, 300, 500], [20, 400, 500], [20, 500, 500], [20, 600, 500], [20, 700, 500], [20, 800, 500], [20, 900, 500], [20, 1000, 500]], [[30, 200, 500], [30, 300, 500], [30, 400, 500], [30, 500, 500], [30, 600, 500], [30, 700, 500], [30, 800, 500], [30, 900, 500], [30, 1000, 500]], [[40, 200, 500], [40, 300, 500], [40, 400, 500], [40, 500, 500], [40, 600, 500], [40, 700, 500], [40, 800, 500], [40, 900, 500], [40, 1000, 500]], [[50, 200, 500], [50, 300, 500], [50, 400, 500], [50, 500, 500], [50, 600, 500], [50, 700, 500], [50, 800, 500], [50, 900, 500], [50, 1000, 500]]]\n"
     ]
    }
   ],
   "source": [
    "n_cores = min(multiprocessing.cpu_count(), 8) # don't use more than 8 cores\n",
    "\n",
    "prova = Parallel(n_jobs = n_cores)(delayed(lambda v:\n",
    "                                           Simulation(C = C, omega = w, gamma = gm, v0 = v0,\n",
    "                                                      rate_list = np.arange(200, 1001, 100),\n",
    "                                                      tau_list = np.arange(500, 1001, 100),\n",
    "                                                      v1_list = [v], lbd = 50))(v)\n",
    "                                           for v in [10, 20, 30, 40, 50])\n",
    "\n",
    "o_pfs = [prova[i][0] for i in range(len(prova))]\n",
    "o_str = [prova[i][1] for i in range(len(prova))]\n",
    "\n",
    "print(o_pfs)\n",
    "print(o_str)"
   ]
  },
  {
   "cell_type": "code",
   "execution_count": 37,
   "id": "4f972f8c",
   "metadata": {
    "ExecuteTime": {
     "end_time": "2023-01-15T19:07:48.228046Z",
     "start_time": "2023-01-15T19:07:48.215953Z"
    }
   },
   "outputs": [
    {
     "data": {
      "text/plain": [
       "(45, 3)"
      ]
     },
     "execution_count": 37,
     "metadata": {},
     "output_type": "execute_result"
    }
   ],
   "source": [
    "pd.DataFrame(np.vstack([np.array(c) for c in o_str])).shape"
   ]
  },
  {
   "cell_type": "code",
   "execution_count": null,
   "id": "a47d10de",
   "metadata": {},
   "outputs": [],
   "source": []
  },
  {
   "cell_type": "markdown",
   "id": "b70b0e74",
   "metadata": {},
   "source": [
    "---\n",
    "---\n",
    "---"
   ]
  }
 ],
 "metadata": {
  "kernelspec": {
   "display_name": "Python 3 (ipykernel)",
   "language": "python",
   "name": "python3"
  },
  "language_info": {
   "codemirror_mode": {
    "name": "ipython",
    "version": 3
   },
   "file_extension": ".py",
   "mimetype": "text/x-python",
   "name": "python",
   "nbconvert_exporter": "python",
   "pygments_lexer": "ipython3",
   "version": "3.9.12"
  }
 },
 "nbformat": 4,
 "nbformat_minor": 5
}
