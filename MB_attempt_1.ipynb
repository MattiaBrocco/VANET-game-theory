{
 "cells": [
  {
   "cell_type": "code",
   "execution_count": 10,
   "id": "5a3bba5a",
   "metadata": {
    "ExecuteTime": {
     "end_time": "2023-01-15T11:51:24.591687Z",
     "start_time": "2023-01-15T11:51:24.575685Z"
    }
   },
   "outputs": [],
   "source": [
    "import os\n",
    "import sys\n",
    "import nashpy\n",
    "import numpy as np\n",
    "import pandas as pd\n",
    "import seaborn as sns\n",
    "import scipy.stats as stats\n",
    "import matplotlib.pyplot as plt"
   ]
  },
  {
   "cell_type": "code",
   "execution_count": 7,
   "id": "e44f6116",
   "metadata": {
    "ExecuteTime": {
     "end_time": "2023-01-15T11:24:29.275067Z",
     "start_time": "2023-01-15T11:24:29.268588Z"
    }
   },
   "outputs": [],
   "source": [
    "strategies_A = np.linspace(0, 1, 1000)\n",
    "strategies_D = np.linspace(0, 1, 1000)"
   ]
  },
  {
   "cell_type": "code",
   "execution_count": 9,
   "id": "2b35d9bc",
   "metadata": {
    "ExecuteTime": {
     "end_time": "2023-01-15T11:44:24.694451Z",
     "start_time": "2023-01-15T11:44:24.682028Z"
    }
   },
   "outputs": [],
   "source": [
    "C = 1000\n",
    "w = 0.02\n",
    "gm = 0.0002"
   ]
  },
  {
   "cell_type": "code",
   "execution_count": 64,
   "id": "af3a42b7",
   "metadata": {
    "ExecuteTime": {
     "end_time": "2023-01-15T12:26:03.115372Z",
     "start_time": "2023-01-15T12:26:03.091440Z"
    }
   },
   "outputs": [],
   "source": [
    "utility_A = lambda rate, tau, o, g: (rate if round(stats.poisson.cdf(k = tau, mu = 100)) == 1 else 0) - o - g\n",
    "utility_D = lambda rate, tau, o, g: - (rate if round(stats.poisson.cdf(k = tau, mu = 100)) == 1 else 0) + o + g\n",
    "\n",
    "utility_A = np.vectorize(utility_A, excluded = {\"rate\", \"o\", \"g\"})\n",
    "utility_D = np.vectorize(utility_D, excluded = {\"rate\", \"o\", \"g\"})"
   ]
  },
  {
   "cell_type": "code",
   "execution_count": 87,
   "id": "4ef1c406",
   "metadata": {
    "ExecuteTime": {
     "end_time": "2023-01-15T14:12:38.226952Z",
     "start_time": "2023-01-15T14:12:35.696956Z"
    }
   },
   "outputs": [
    {
     "data": {
      "text/plain": [
       "<AxesSubplot:>"
      ]
     },
     "execution_count": 87,
     "metadata": {},
     "output_type": "execute_result"
    },
    {
     "data": {
      "image/png": "[encoded data removed]",
      "text/plain": [
       "<Figure size 432x288 with 2 Axes>"
      ]
     },
     "metadata": {
      "needs_background": "light"
     },
     "output_type": "display_data"
    }
   ],
   "source": [
    "sns.heatmap(np.array([utility_A(r, np.arange(50, 150), w, gm)\n",
    "                      for r in np.arange(1, 200)]), annot = False)"
   ]
  },
  {
   "cell_type": "code",
   "execution_count": 73,
   "id": "6c1ed19a",
   "metadata": {
    "ExecuteTime": {
     "end_time": "2023-01-15T12:33:31.594164Z",
     "start_time": "2023-01-15T12:33:21.017103Z"
    }
   },
   "outputs": [],
   "source": [
    "prova_A = np.array([utility_A(r, np.arange(50, 150), w, gm) for r in np.arange(1, 200)])\n",
    "prova_D = np.array([utility_D(r, np.arange(50, 150), w, gm) for r in np.arange(1, 200)])"
   ]
  },
  {
   "cell_type": "code",
   "execution_count": 78,
   "id": "c45dc675",
   "metadata": {
    "ExecuteTime": {
     "end_time": "2023-01-15T12:34:18.278786Z",
     "start_time": "2023-01-15T12:34:18.270488Z"
    }
   },
   "outputs": [],
   "source": [
    "game = nashpy.Game(prova_A, prova_D)"
   ]
  },
  {
   "cell_type": "code",
   "execution_count": 86,
   "id": "29802d22",
   "metadata": {
    "ExecuteTime": {
     "end_time": "2023-01-15T14:11:43.267835Z",
     "start_time": "2023-01-15T12:36:49.287177Z"
    }
   },
   "outputs": [
    {
     "ename": "KeyboardInterrupt",
     "evalue": "",
     "output_type": "error",
     "traceback": [
      "\u001b[1;31m---------------------------------------------------------------------------\u001b[0m",
      "\u001b[1;31mKeyboardInterrupt\u001b[0m                         Traceback (most recent call last)",
      "Input \u001b[1;32mIn [86]\u001b[0m, in \u001b[0;36m<cell line: 2>\u001b[1;34m()\u001b[0m\n\u001b[0;32m      1\u001b[0m equilibria \u001b[38;5;241m=\u001b[39m []\n\u001b[1;32m----> 2\u001b[0m \u001b[38;5;28;01mfor\u001b[39;00m eq \u001b[38;5;129;01min\u001b[39;00m game\u001b[38;5;241m.\u001b[39msupport_enumeration():\n\u001b[0;32m      3\u001b[0m     equilibria \u001b[38;5;241m+\u001b[39m\u001b[38;5;241m=\u001b[39m [eq]\n",
      "File \u001b[1;32m~\\anaconda3\\lib\\site-packages\\nashpy\\algorithms\\support_enumeration.py:245\u001b[0m, in \u001b[0;36msupport_enumeration\u001b[1;34m(A, B, non_degenerate, tol)\u001b[0m\n\u001b[0;32m    217\u001b[0m \u001b[38;5;124;03m\"\"\"\u001b[39;00m\n\u001b[0;32m    218\u001b[0m \u001b[38;5;124;03mObtain the Nash equilibria using support enumeration.\u001b[39;00m\n\u001b[0;32m    219\u001b[0m \n\u001b[1;32m   (...)\u001b[0m\n\u001b[0;32m    242\u001b[0m \u001b[38;5;124;03m    The equilibria.\u001b[39;00m\n\u001b[0;32m    243\u001b[0m \u001b[38;5;124;03m\"\"\"\u001b[39;00m\n\u001b[0;32m    244\u001b[0m count \u001b[38;5;241m=\u001b[39m \u001b[38;5;241m0\u001b[39m\n\u001b[1;32m--> 245\u001b[0m \u001b[38;5;28;01mfor\u001b[39;00m s1, s2, sup1, sup2 \u001b[38;5;129;01min\u001b[39;00m indifference_strategies(\n\u001b[0;32m    246\u001b[0m     A, B, non_degenerate\u001b[38;5;241m=\u001b[39mnon_degenerate, tol\u001b[38;5;241m=\u001b[39mtol\n\u001b[0;32m    247\u001b[0m ):\n\u001b[0;32m    248\u001b[0m     \u001b[38;5;28;01mif\u001b[39;00m is_ne((s1, s2), (sup1, sup2), (A, B)):\n\u001b[0;32m    249\u001b[0m         count \u001b[38;5;241m+\u001b[39m\u001b[38;5;241m=\u001b[39m \u001b[38;5;241m1\u001b[39m\n",
      "File \u001b[1;32m~\\anaconda3\\lib\\site-packages\\nashpy\\algorithms\\support_enumeration.py:140\u001b[0m, in \u001b[0;36mindifference_strategies\u001b[1;34m(A, B, non_degenerate, tol)\u001b[0m\n\u001b[0;32m    138\u001b[0m \u001b[38;5;28;01mfor\u001b[39;00m pair \u001b[38;5;129;01min\u001b[39;00m potential_support_pairs(A, B, non_degenerate\u001b[38;5;241m=\u001b[39mnon_degenerate):\n\u001b[0;32m    139\u001b[0m     s1 \u001b[38;5;241m=\u001b[39m solve_indifference(B\u001b[38;5;241m.\u001b[39mT, \u001b[38;5;241m*\u001b[39m(pair[::\u001b[38;5;241m-\u001b[39m\u001b[38;5;241m1\u001b[39m]))\n\u001b[1;32m--> 140\u001b[0m     s2 \u001b[38;5;241m=\u001b[39m \u001b[43msolve_indifference\u001b[49m\u001b[43m(\u001b[49m\u001b[43mA\u001b[49m\u001b[43m,\u001b[49m\u001b[43m \u001b[49m\u001b[38;5;241;43m*\u001b[39;49m\u001b[43mpair\u001b[49m\u001b[43m)\u001b[49m\n\u001b[0;32m    142\u001b[0m     \u001b[38;5;28;01mif\u001b[39;00m obey_support(s1, pair[\u001b[38;5;241m0\u001b[39m], tol\u001b[38;5;241m=\u001b[39mtol) \u001b[38;5;129;01mand\u001b[39;00m obey_support(s2, pair[\u001b[38;5;241m1\u001b[39m], tol\u001b[38;5;241m=\u001b[39mtol):\n\u001b[0;32m    143\u001b[0m         \u001b[38;5;28;01myield\u001b[39;00m s1, s2, pair[\u001b[38;5;241m0\u001b[39m], pair[\u001b[38;5;241m1\u001b[39m]\n",
      "File \u001b[1;32m~\\anaconda3\\lib\\site-packages\\nashpy\\algorithms\\support_enumeration.py:59\u001b[0m, in \u001b[0;36msolve_indifference\u001b[1;34m(A, rows, columns)\u001b[0m\n\u001b[0;32m     56\u001b[0m zero_columns \u001b[38;5;241m=\u001b[39m \u001b[38;5;28mset\u001b[39m(\u001b[38;5;28mrange\u001b[39m(A\u001b[38;5;241m.\u001b[39mshape[\u001b[38;5;241m1\u001b[39m])) \u001b[38;5;241m-\u001b[39m \u001b[38;5;28mset\u001b[39m(columns)\n\u001b[0;32m     58\u001b[0m \u001b[38;5;28;01mif\u001b[39;00m zero_columns \u001b[38;5;241m!=\u001b[39m \u001b[38;5;28mset\u001b[39m():\n\u001b[1;32m---> 59\u001b[0m     M \u001b[38;5;241m=\u001b[39m \u001b[43mnp\u001b[49m\u001b[38;5;241;43m.\u001b[39;49m\u001b[43mappend\u001b[49m\u001b[43m(\u001b[49m\n\u001b[0;32m     60\u001b[0m \u001b[43m        \u001b[49m\u001b[43mM\u001b[49m\u001b[43m,\u001b[49m\n\u001b[0;32m     61\u001b[0m \u001b[43m        \u001b[49m\u001b[43m[\u001b[49m\u001b[43m[\u001b[49m\u001b[38;5;28;43mint\u001b[39;49m\u001b[43m(\u001b[49m\u001b[43mi\u001b[49m\u001b[43m \u001b[49m\u001b[38;5;241;43m==\u001b[39;49m\u001b[43m \u001b[49m\u001b[43mj\u001b[49m\u001b[43m)\u001b[49m\u001b[43m \u001b[49m\u001b[38;5;28;43;01mfor\u001b[39;49;00m\u001b[43m \u001b[49m\u001b[43mi\u001b[49m\u001b[43m,\u001b[49m\u001b[43m \u001b[49m\u001b[43mcol\u001b[49m\u001b[43m \u001b[49m\u001b[38;5;129;43;01min\u001b[39;49;00m\u001b[43m \u001b[49m\u001b[38;5;28;43menumerate\u001b[39;49m\u001b[43m(\u001b[49m\u001b[43mM\u001b[49m\u001b[38;5;241;43m.\u001b[39;49m\u001b[43mT\u001b[49m\u001b[43m)\u001b[49m\u001b[43m]\u001b[49m\u001b[43m \u001b[49m\u001b[38;5;28;43;01mfor\u001b[39;49;00m\u001b[43m \u001b[49m\u001b[43mj\u001b[49m\u001b[43m \u001b[49m\u001b[38;5;129;43;01min\u001b[39;49;00m\u001b[43m \u001b[49m\u001b[43mzero_columns\u001b[49m\u001b[43m]\u001b[49m\u001b[43m,\u001b[49m\n\u001b[0;32m     62\u001b[0m \u001b[43m        \u001b[49m\u001b[43maxis\u001b[49m\u001b[38;5;241;43m=\u001b[39;49m\u001b[38;5;241;43m0\u001b[39;49m\u001b[43m,\u001b[49m\n\u001b[0;32m     63\u001b[0m \u001b[43m    \u001b[49m\u001b[43m)\u001b[49m\n\u001b[0;32m     65\u001b[0m \u001b[38;5;66;03m# Ensure have probability vector\u001b[39;00m\n\u001b[0;32m     66\u001b[0m M \u001b[38;5;241m=\u001b[39m np\u001b[38;5;241m.\u001b[39mappend(M, np\u001b[38;5;241m.\u001b[39mones((\u001b[38;5;241m1\u001b[39m, M\u001b[38;5;241m.\u001b[39mshape[\u001b[38;5;241m1\u001b[39m])), axis\u001b[38;5;241m=\u001b[39m\u001b[38;5;241m0\u001b[39m)\n",
      "File \u001b[1;32m<__array_function__ internals>:5\u001b[0m, in \u001b[0;36mappend\u001b[1;34m(*args, **kwargs)\u001b[0m\n",
      "File \u001b[1;32m~\\anaconda3\\lib\\site-packages\\numpy\\lib\\function_base.py:4817\u001b[0m, in \u001b[0;36mappend\u001b[1;34m(arr, values, axis)\u001b[0m\n\u001b[0;32m   4815\u001b[0m     values \u001b[38;5;241m=\u001b[39m ravel(values)\n\u001b[0;32m   4816\u001b[0m     axis \u001b[38;5;241m=\u001b[39m arr\u001b[38;5;241m.\u001b[39mndim\u001b[38;5;241m-\u001b[39m\u001b[38;5;241m1\u001b[39m\n\u001b[1;32m-> 4817\u001b[0m \u001b[38;5;28;01mreturn\u001b[39;00m \u001b[43mconcatenate\u001b[49m\u001b[43m(\u001b[49m\u001b[43m(\u001b[49m\u001b[43marr\u001b[49m\u001b[43m,\u001b[49m\u001b[43m \u001b[49m\u001b[43mvalues\u001b[49m\u001b[43m)\u001b[49m\u001b[43m,\u001b[49m\u001b[43m \u001b[49m\u001b[43maxis\u001b[49m\u001b[38;5;241;43m=\u001b[39;49m\u001b[43maxis\u001b[49m\u001b[43m)\u001b[49m\n",
      "File \u001b[1;32m<__array_function__ internals>:5\u001b[0m, in \u001b[0;36mconcatenate\u001b[1;34m(*args, **kwargs)\u001b[0m\n",
      "\u001b[1;31mKeyboardInterrupt\u001b[0m: "
     ]
    }
   ],
   "source": [
    "equilibria = []\n",
    "for eq in game.support_enumeration():\n",
    "    equilibria += [eq]"
   ]
  },
  {
   "cell_type": "code",
   "execution_count": null,
   "id": "6a0d517f",
   "metadata": {},
   "outputs": [],
   "source": []
  },
  {
   "cell_type": "code",
   "execution_count": null,
   "id": "354e002e",
   "metadata": {},
   "outputs": [],
   "source": []
  }
 ],
 "metadata": {
  "kernelspec": {
   "display_name": "Python 3 (ipykernel)",
   "language": "python",
   "name": "python3"
  },
  "language_info": {
   "codemirror_mode": {
    "name": "ipython",
    "version": 3
   },
   "file_extension": ".py",
   "mimetype": "text/x-python",
   "name": "python",
   "nbconvert_exporter": "python",
   "pygments_lexer": "ipython3",
   "version": "3.9.12"
  }
 },
 "nbformat": 4,
 "nbformat_minor": 5
}
