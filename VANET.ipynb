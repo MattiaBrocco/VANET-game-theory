{
  "nbformat": 4,
  "nbformat_minor": 0,
  "metadata": {
    "colab": {
      "provenance": []
    },
    "kernelspec": {
      "name": "python3",
      "display_name": "Python 3"
    },
    "language_info": {
      "name": "python"
    }
  },
  "cells": [
    {
      "cell_type": "code",
      "execution_count": 6,
      "metadata": {
        "id": "HC-f2XojIj0B"
      },
      "outputs": [],
      "source": [
        "%%capture\n",
        "! pip install nashpy"
      ]
    },
    {
      "cell_type": "code",
      "source": [
        "import nashpy as nash\n",
        "import numpy as np\n",
        "from scipy.stats import poisson\n",
        "import seaborn\n",
        "import matplotlib.pyplot as plt"
      ],
      "metadata": {
        "id": "xyxLJVQ0JMv_"
      },
      "execution_count": 177,
      "outputs": []
    },
    {
      "cell_type": "code",
      "source": [
        "def attacker_payoff(rate, treshold):\n",
        "  C=1000\n",
        "  beta=1.25\n",
        "  gamma=0.0002\n",
        "  omega=0.02\n",
        "\n",
        "  return (rate * treshold)/(C*700)-omega-gamma  "
      ],
      "metadata": {
        "id": "c6ad19qcLOo-"
      },
      "execution_count": 272,
      "outputs": []
    },
    {
      "cell_type": "code",
      "source": [
        "def Game(strategies_A, strategies_B):\n",
        "  \n",
        "  n= strategies_A.shape[0]\n",
        "  m= strategies_B.shape[0]\n",
        "  payoffs_attacker= np.zeros((n, n))\n",
        "  payoffs_defendant= np.zeros((m, m))\n",
        "\n",
        "  for i in range(n):\n",
        "    for j in range(m):\n",
        "      payoffs_attacker[i][j], payoffs_defendant[i][j] = attacker_payoff(strategies_A[i], strategies_B[j]) , -1* attacker_payoff(strategies_A[i], strategies_B[j])\n",
        "\n",
        "  return nash.Game(payoffs_attacker, payoffs_defendant), payoffs_attacker, payoffs_defendant"
      ],
      "metadata": {
        "id": "v9MIx6nLhHWw"
      },
      "execution_count": 259,
      "outputs": []
    },
    {
      "cell_type": "code",
      "source": [
        "%%time\n",
        "\n",
        "n=10\n",
        "\n",
        "rates=np.random.randint(60, 700, size=(n, 1))\n",
        "thresholds=np.random.randint(60, 700, size=(n, 1))\n",
        "\n",
        "\n",
        "game, payoffs_attacker, payoffs_defendant = Game(rates, thresholds)\n",
        "\n",
        "eqs = game.support_enumeration()\n",
        "equilibria = []\n",
        "for elm in eqs:\n",
        "  equilibria += [elm]\n",
        "list(equilibria)"
      ],
      "metadata": {
        "id": "82QYszSEXuVX",
        "colab": {
          "base_uri": "https://localhost:8080/"
        },
        "outputId": "dad29f0d-f2c2-4a0e-d997-ca56d65a4f17"
      },
      "execution_count": 260,
      "outputs": [
        {
          "output_type": "stream",
          "name": "stdout",
          "text": [
            "CPU times: user 3min 4s, sys: 802 ms, total: 3min 4s\n",
            "Wall time: 3min 5s\n"
          ]
        },
        {
          "output_type": "execute_result",
          "data": {
            "text/plain": [
              "[(array([0., 0., 1., 0., 0., 0., 0., 0., 0., 0.]),\n",
              "  array([0., 0., 0., 0., 0., 0., 0., 0., 1., 0.]))]"
            ]
          },
          "metadata": {},
          "execution_count": 260
        }
      ]
    },
    {
      "cell_type": "code",
      "source": [
        "print(f'Equilibria of (A): {rates[list(equilibria[0][0]).index(max(equilibria[0][0]))][0]}, \\nEquilibria of (D): {thresholds[list(equilibria[0][1]).index(max(equilibria[0][1]))][0]}')"
      ],
      "metadata": {
        "colab": {
          "base_uri": "https://localhost:8080/"
        },
        "id": "rV5KaRtSdAd1",
        "outputId": "758d0e47-ac40-42a7-f17e-d76013aa1177"
      },
      "execution_count": 261,
      "outputs": [
        {
          "output_type": "stream",
          "name": "stdout",
          "text": [
            "Equilibria of (A): 693, \n",
            "Equilibria of (D): 77\n"
          ]
        }
      ]
    },
    {
      "cell_type": "code",
      "source": [
        "fig, (ax1, ax2) = plt.subplots(ncols=2, figsize=(15, 5))\n",
        "\n",
        "ax1.set_title(\"Attacker Matrix Payoff\")\n",
        "ax2.set_title(\"Defendant Matrix Payoff\")\n",
        "\n",
        "seaborn.heatmap(payoffs_attacker, ax=ax1)\n",
        "seaborn.heatmap(payoffs_defendant, ax=ax2)\n",
        "\n",
        "plt.show()"
      ],
      "metadata": {
        "colab": {
          "base_uri": "https://localhost:8080/",
          "height": 336
        },
        "id": "SrpDRLUNT_NH",
        "outputId": "2e3504ff-1872-4695-d78f-7098ac17e231"
      },
      "execution_count": 262,
      "outputs": [
        {
          "output_type": "display_data",
          "data": {
            "text/plain": [
              "<Figure size 1080x360 with 4 Axes>"
            ],
            "image/png": "[encoded data removed]"
          },
          "metadata": {
            "needs_background": "light"
          }
        }
      ]
    },
    {
      "cell_type": "markdown",
      "source": [
        "#Static Simultaneuous Game with different payoffs functions"
      ],
      "metadata": {
        "id": "wqQJvkSiou8G"
      }
    },
    {
      "cell_type": "code",
      "source": [
        "def defendant_payoff(rate, threshold):\n",
        "  C=1000\n",
        "  beta=1.25\n",
        "  gamma=0.0002\n",
        "  omega=0.02\n",
        "\n",
        "  return 1 - threshold * rate/(C*C)"
      ],
      "metadata": {
        "id": "Klnw7ILRos_0"
      },
      "execution_count": 292,
      "outputs": []
    },
    {
      "cell_type": "code",
      "source": [
        "def Game_2(strategies_A, strategies_B):\n",
        "  \n",
        "  n= strategies_A.shape[0]\n",
        "  m= strategies_B.shape[0]\n",
        "  payoffs_attacker= np.zeros((n, n))\n",
        "  payoffs_defendant= np.zeros((m, m))\n",
        "\n",
        "  for i in range(n):\n",
        "    for j in range(m):\n",
        "      payoffs_attacker[i][j]  = attacker_payoff(strategies_A[i], strategies_B[j])\n",
        "      payoffs_defendant[i][j] = defendant_payoff(strategies_A[i], strategies_B[j])\n",
        "\n",
        "  return nash.Game(payoffs_attacker, payoffs_defendant), payoffs_attacker, payoffs_defendant"
      ],
      "metadata": {
        "id": "PCbbjOg7pNxN"
      },
      "execution_count": 293,
      "outputs": []
    },
    {
      "cell_type": "code",
      "source": [
        "%%time\n",
        "\n",
        "n=8\n",
        "\n",
        "rates=np.random.randint(60, 700, size=(n, 1))\n",
        "thresholds=np.random.randint(60, 700, size=(n, 1))\n",
        "\n",
        "\n",
        "game_2, payoffs_attacker, payoffs_defendant = Game_2(rates, thresholds)\n",
        "\n",
        "eqs = game_2.support_enumeration()\n",
        "equilibria = []\n",
        "for elm in eqs:\n",
        "  equilibria += [elm]\n",
        "list(equilibria)"
      ],
      "metadata": {
        "colab": {
          "base_uri": "https://localhost:8080/"
        },
        "id": "kApmSQQnpmZf",
        "outputId": "e1ac8317-48d3-47a5-8013-9a908de19073"
      },
      "execution_count": 297,
      "outputs": [
        {
          "output_type": "stream",
          "name": "stdout",
          "text": [
            "CPU times: user 10.2 s, sys: 57.5 ms, total: 10.2 s\n",
            "Wall time: 10.3 s\n"
          ]
        },
        {
          "output_type": "execute_result",
          "data": {
            "text/plain": [
              "[(array([0., 0., 0., 0., 0., 0., 0., 1.]),\n",
              "  array([1., 0., 0., 0., 0., 0., 0., 0.]))]"
            ]
          },
          "metadata": {},
          "execution_count": 297
        }
      ]
    }
  ]
}